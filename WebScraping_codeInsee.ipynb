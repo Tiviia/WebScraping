{
  "nbformat": 4,
  "nbformat_minor": 0,
  "metadata": {
    "colab": {
      "name": "WebScraping_codeInsee.ipynb",
      "provenance": [],
      "collapsed_sections": []
    },
    "kernelspec": {
      "name": "python3",
      "display_name": "Python 3"
    }
  },
  "cells": [
    {
      "cell_type": "markdown",
      "metadata": {
        "id": "U2zyiXOKlc_x",
        "colab_type": "text"
      },
      "source": [
        "# WebScraping Code INSEE \n",
        "\n"
      ]
    },
    {
      "cell_type": "code",
      "metadata": {
        "id": "JSdOLaYX2Fap",
        "colab_type": "code",
        "colab": {}
      },
      "source": [
        "#Import des librairies \n",
        "import pandas as pd\n",
        "import numpy as np\n",
        "import requests\n",
        "from bs4 import BeautifulSoup\n",
        "import re"
      ],
      "execution_count": null,
      "outputs": []
    },
    {
      "cell_type": "markdown",
      "metadata": {
        "id": "LVBnSmCB1WlC",
        "colab_type": "text"
      },
      "source": [
        "# Data Import "
      ]
    },
    {
      "cell_type": "markdown",
      "metadata": {
        "id": "x-m4uzPE10OJ",
        "colab_type": "text"
      },
      "source": [
        "Import with Google Drive"
      ]
    },
    {
      "cell_type": "code",
      "metadata": {
        "id": "gOGSM_Kw1PsQ",
        "colab_type": "code",
        "colab": {
          "base_uri": "https://localhost:8080/",
          "height": 34
        },
        "outputId": "1685f41c-2a22-446a-b3a8-3117675f62d8"
      },
      "source": [
        "from google.colab import drive\n",
        "drive.mount('/gdrive')"
      ],
      "execution_count": null,
      "outputs": [
        {
          "output_type": "stream",
          "text": [
            "Drive already mounted at /gdrive; to attempt to forcibly remount, call drive.mount(\"/gdrive\", force_remount=True).\n"
          ],
          "name": "stdout"
        }
      ]
    },
    {
      "cell_type": "markdown",
      "metadata": {
        "id": "-pZqKYgj2d4y",
        "colab_type": "text"
      },
      "source": [
        "Import data from Google drive"
      ]
    },
    {
      "cell_type": "code",
      "metadata": {
        "id": "P-j9i_Hq2dAA",
        "colab_type": "code",
        "colab": {}
      },
      "source": [
        "#import data from googledrive\n",
        "#nomfichier=\"nomfichier\"\n",
        "#df_search = pd.read_csv('/gdrive/My Drive/{}.csv'.format(nomfichier), encoding='utf-8')"
      ],
      "execution_count": null,
      "outputs": []
    },
    {
      "cell_type": "markdown",
      "metadata": {
        "id": "Mipu45v356m0",
        "colab_type": "text"
      },
      "source": [
        "Import manually "
      ]
    },
    {
      "cell_type": "code",
      "metadata": {
        "id": "Xi5iAIKf4mK-",
        "colab_type": "code",
        "colab": {}
      },
      "source": [
        "#other option : put value manually into a dataframe\n",
        "ar = np.array([[2290,'SAINT-CHRISTOPHE-À-BERRY'], [14240,'PARFOURU L ECLIN'],[79100,'TAIZE']])\n",
        "df_search = pd.DataFrame(ar,columns=['Code Postal','Nom de la commune'])\n"
      ],
      "execution_count": null,
      "outputs": []
    },
    {
      "cell_type": "code",
      "metadata": {
        "id": "5g2-GYr7_MWI",
        "colab_type": "code",
        "colab": {
          "base_uri": "https://localhost:8080/",
          "height": 142
        },
        "outputId": "71ae1768-e84d-4cf5-a534-7e7408fbd403"
      },
      "source": [
        "df_search.head()"
      ],
      "execution_count": null,
      "outputs": [
        {
          "output_type": "execute_result",
          "data": {
            "text/html": [
              "<div>\n",
              "<style scoped>\n",
              "    .dataframe tbody tr th:only-of-type {\n",
              "        vertical-align: middle;\n",
              "    }\n",
              "\n",
              "    .dataframe tbody tr th {\n",
              "        vertical-align: top;\n",
              "    }\n",
              "\n",
              "    .dataframe thead th {\n",
              "        text-align: right;\n",
              "    }\n",
              "</style>\n",
              "<table border=\"1\" class=\"dataframe\">\n",
              "  <thead>\n",
              "    <tr style=\"text-align: right;\">\n",
              "      <th></th>\n",
              "      <th>Code Postal</th>\n",
              "      <th>Nom de la commune</th>\n",
              "    </tr>\n",
              "  </thead>\n",
              "  <tbody>\n",
              "    <tr>\n",
              "      <th>0</th>\n",
              "      <td>2290</td>\n",
              "      <td>SAINT-CHRISTOPHE-À-BERRY</td>\n",
              "    </tr>\n",
              "    <tr>\n",
              "      <th>1</th>\n",
              "      <td>14240</td>\n",
              "      <td>PARFOURU L ECLIN</td>\n",
              "    </tr>\n",
              "    <tr>\n",
              "      <th>2</th>\n",
              "      <td>79100</td>\n",
              "      <td>TAIZE</td>\n",
              "    </tr>\n",
              "  </tbody>\n",
              "</table>\n",
              "</div>"
            ],
            "text/plain": [
              "  Code Postal         Nom de la commune\n",
              "0        2290  SAINT-CHRISTOPHE-À-BERRY\n",
              "1       14240          PARFOURU L ECLIN\n",
              "2       79100                     TAIZE"
            ]
          },
          "metadata": {
            "tags": []
          },
          "execution_count": 4
        }
      ]
    },
    {
      "cell_type": "markdown",
      "metadata": {
        "id": "UGeXmgCz__4a",
        "colab_type": "text"
      },
      "source": [
        "Key_search Creation"
      ]
    },
    {
      "cell_type": "code",
      "metadata": {
        "id": "6dtctZIR_VHH",
        "colab_type": "code",
        "colab": {}
      },
      "source": [
        "df_search[\"key_search\"]=df_search['Code Postal'] + \" \" + df_search['Nom de la commune']"
      ],
      "execution_count": null,
      "outputs": []
    },
    {
      "cell_type": "code",
      "metadata": {
        "id": "KbX2UYDlBKJT",
        "colab_type": "code",
        "colab": {
          "base_uri": "https://localhost:8080/",
          "height": 142
        },
        "outputId": "47c2af6c-fd80-4b20-f77b-559f37a2879e"
      },
      "source": [
        "df_search.head()"
      ],
      "execution_count": null,
      "outputs": [
        {
          "output_type": "execute_result",
          "data": {
            "text/html": [
              "<div>\n",
              "<style scoped>\n",
              "    .dataframe tbody tr th:only-of-type {\n",
              "        vertical-align: middle;\n",
              "    }\n",
              "\n",
              "    .dataframe tbody tr th {\n",
              "        vertical-align: top;\n",
              "    }\n",
              "\n",
              "    .dataframe thead th {\n",
              "        text-align: right;\n",
              "    }\n",
              "</style>\n",
              "<table border=\"1\" class=\"dataframe\">\n",
              "  <thead>\n",
              "    <tr style=\"text-align: right;\">\n",
              "      <th></th>\n",
              "      <th>Code Postal</th>\n",
              "      <th>Nom de la commune</th>\n",
              "      <th>key_search</th>\n",
              "    </tr>\n",
              "  </thead>\n",
              "  <tbody>\n",
              "    <tr>\n",
              "      <th>0</th>\n",
              "      <td>2290</td>\n",
              "      <td>SAINT-CHRISTOPHE-À-BERRY</td>\n",
              "      <td>2290 SAINT-CHRISTOPHE-À-BERRY</td>\n",
              "    </tr>\n",
              "    <tr>\n",
              "      <th>1</th>\n",
              "      <td>14240</td>\n",
              "      <td>PARFOURU L ECLIN</td>\n",
              "      <td>14240 PARFOURU L ECLIN</td>\n",
              "    </tr>\n",
              "    <tr>\n",
              "      <th>2</th>\n",
              "      <td>79100</td>\n",
              "      <td>TAIZE</td>\n",
              "      <td>79100 TAIZE</td>\n",
              "    </tr>\n",
              "  </tbody>\n",
              "</table>\n",
              "</div>"
            ],
            "text/plain": [
              "  Code Postal         Nom de la commune                     key_search\n",
              "0        2290  SAINT-CHRISTOPHE-À-BERRY  2290 SAINT-CHRISTOPHE-À-BERRY\n",
              "1       14240          PARFOURU L ECLIN         14240 PARFOURU L ECLIN\n",
              "2       79100                     TAIZE                    79100 TAIZE"
            ]
          },
          "metadata": {
            "tags": []
          },
          "execution_count": 8
        }
      ]
    },
    {
      "cell_type": "markdown",
      "metadata": {
        "id": "x2EIAX_KcL86",
        "colab_type": "text"
      },
      "source": [
        "# **Data extraction  from first page of google search:**\n",
        "\n",
        "**1 - Key_search Creation**\n",
        "\n",
        "with key_search = Code postal + Nom de la commune\n",
        "\n",
        "**2 - Launch of google_search()**\n",
        "\n",
        "- Strengthening's key_search   \n",
        "\n",
        "    *For each key we addeed \" CODE INSEE \" for optimize the results.*\n",
        "- Utilization of **request_and_soup()** \n",
        "  \n",
        "  Take first page of google search\n",
        "- Utilization of **find_all_for_searched_words()**\n",
        "\n",
        "  Looking inside the text if the word INSEE it is. \n",
        "  NB: We are looking for different format : (INSEE,insee, Insee)\n",
        "\n",
        "- Utilization of  **find_code_insee()**\n",
        "\n",
        "  Looking for the code insee in the text.\n",
        "   \n",
        "- Output of this function is a list (key_search,codes found)\n",
        "\n",
        "**3 - Dataframe with all the results (key_search,code found)**\n",
        "\n",
        "- First filter on dates with **isnotyear()**\n",
        "\n",
        "- Second Filter on the \"codes postaux\" with **extractcodepostalfromkey()** and **dropcodepostal()**.\n",
        "\n",
        "- Find the correct code_insee :\n",
        "  We are taking the most result found with **most_codeinsee()**\n",
        "\n",
        "**4 - Export file on google drive**\n"
      ]
    },
    {
      "cell_type": "code",
      "metadata": {
        "id": "T1Wd63F0AFzV",
        "colab_type": "code",
        "colab": {}
      },
      "source": [
        "#key_search_list\n",
        "search_list = []\n",
        "for i in df_search['key_search']:\n",
        "  search_list.append(i)"
      ],
      "execution_count": null,
      "outputs": []
    },
    {
      "cell_type": "code",
      "metadata": {
        "id": "U3zT8SRf_hlo",
        "colab_type": "code",
        "colab": {}
      },
      "source": [
        "#Take text from searching page of google\n",
        "def request_and_soup(key):\n",
        "    word = key + \" CODE INSEE\"\n",
        "    print('\\n\\n\\n')\n",
        "    print(word)\n",
        "    base_url = \"https://www.google.com/search\"\n",
        "    source = requests.get(base_url+'?q='+word+\" \"+\"&oq=\"+word+\"aqs=chrome.0.69i59j46j69i59j0l2j69i60l3.1087j0j7&sourceid=chrome&ie=UTF-8\") \n",
        "    html_doc = source.text\n",
        "    soup = BeautifulSoup(html_doc, 'html.parser')\n",
        "    return soup"
      ],
      "execution_count": null,
      "outputs": []
    },
    {
      "cell_type": "code",
      "metadata": {
        "id": "4SU69J8H-Ebw",
        "colab_type": "code",
        "colab": {}
      },
      "source": [
        "#Looking for the word \"Insee\" inside the text \n",
        "def find_all_for_searched_words(soup,searched_word):\n",
        "  results = []\n",
        "  for s in searched_word:\n",
        "    results += soup.body.find_all(string=re.compile('{0}'.format(searched_word)), recursive=True)\n",
        "  return results"
      ],
      "execution_count": null,
      "outputs": []
    },
    {
      "cell_type": "code",
      "metadata": {
        "id": "acXYIm_sTO_m",
        "colab_type": "code",
        "colab": {}
      },
      "source": [
        "#Looking for the code INSEE\n",
        "def find_code_insee(results):\n",
        "  code_insee =[]\n",
        "  for content in results: \n",
        "    #lowercase for all content\n",
        "    content = content.lower()\n",
        "    #split element with insee word\n",
        "    part_de_phrases = content.split('insee')\n",
        "    #looking for numeric part\n",
        "    code_insee += re.findall('([0-9]{4,5}|[0-9]{1}[a-zA-Z0-9]{1}[0-9]{3})',str(part_de_phrases))\n",
        "  return code_insee"
      ],
      "execution_count": null,
      "outputs": []
    },
    {
      "cell_type": "markdown",
      "metadata": {
        "id": "HrjrVCmkcpMR",
        "colab_type": "text"
      },
      "source": [
        "La fonction google_search  (Main fonction)"
      ]
    },
    {
      "cell_type": "code",
      "metadata": {
        "colab_type": "code",
        "id": "h4Z5hG9b-EvI",
        "colab": {}
      },
      "source": [
        "def google_search(word_list):\n",
        "  result_brut = []\n",
        "  for key in word_list:\n",
        "\n",
        "    soup = request_and_soup(key)\n",
        "\n",
        "    searched_word=[\"INSEE\",\"Insee\",\"insee\"]\n",
        "\n",
        "    for s in searched_word :\n",
        "      results = find_all_for_searched_words(soup,s)\n",
        "\n",
        "      code_insee = find_code_insee(results)\n",
        "    \n",
        "      result_brut.append((key,code_insee))\n",
        "        \n",
        "\n",
        "  return result_brut"
      ],
      "execution_count": null,
      "outputs": []
    },
    {
      "cell_type": "code",
      "metadata": {
        "id": "J65_SzM3-J6p",
        "colab_type": "code",
        "colab": {}
      },
      "source": [
        "resultat_list = google_search(search_list)"
      ],
      "execution_count": null,
      "outputs": []
    },
    {
      "cell_type": "markdown",
      "metadata": {
        "id": "1L8TJENMdAsM",
        "colab_type": "text"
      },
      "source": [
        "Result sent into a dataframe"
      ]
    },
    {
      "cell_type": "code",
      "metadata": {
        "id": "UsbpYDik-0Fe",
        "colab_type": "code",
        "colab": {}
      },
      "source": [
        "df_results = pd.DataFrame(resultat_list,columns=['key_search','code_insee'])\n",
        "df_results = df_results.groupby('key_search').last()\n",
        "df_results"
      ],
      "execution_count": null,
      "outputs": []
    },
    {
      "cell_type": "markdown",
      "metadata": {
        "id": "pWwl9mq4dZGN",
        "colab_type": "text"
      },
      "source": [
        "Fonction **isnotyear()** :\n",
        "\n",
        "Filter of the year presented into the result."
      ]
    },
    {
      "cell_type": "code",
      "metadata": {
        "id": "JAuyZQTG3gCx",
        "colab_type": "code",
        "colab": {}
      },
      "source": [
        "def isnotyear(code):\n",
        "  if len(code) == 4 and (int(code) > 1900 and int(code) < 2050):\n",
        "    return False\n",
        "  else:\n",
        "    return True"
      ],
      "execution_count": null,
      "outputs": []
    },
    {
      "cell_type": "code",
      "metadata": {
        "id": "Nkck-6xy4bTe",
        "colab_type": "code",
        "colab": {}
      },
      "source": [
        "def drop_date(list_code):\n",
        "  return list(filter(isnotyear, list_code))\n"
      ],
      "execution_count": null,
      "outputs": []
    },
    {
      "cell_type": "code",
      "metadata": {
        "id": "9Mqk3udO5VX4",
        "colab_type": "code",
        "colab": {}
      },
      "source": [
        "df_results['code_insee'] = df_results['code_insee'].apply(drop_date)"
      ],
      "execution_count": null,
      "outputs": []
    },
    {
      "cell_type": "markdown",
      "metadata": {
        "id": "i169m6Y0wdcZ",
        "colab_type": "text"
      },
      "source": [
        "Filter on the \"Code Postaux\""
      ]
    },
    {
      "cell_type": "code",
      "metadata": {
        "id": "PypNYVdNwc_V",
        "colab_type": "code",
        "colab": {}
      },
      "source": [
        "def dropcodepostal(vraicodepostal,listcodeinsee):\n",
        "  nouvellelistecodeinsee=[]\n",
        "  for i in listcodeinsee:\n",
        "    if i != vraicodepostal  and i != str(str('0') + vraicodepostal):\n",
        "      nouvellelistecodeinsee.append(i)\n",
        "  return nouvellelistecodeinsee"
      ],
      "execution_count": null,
      "outputs": []
    },
    {
      "cell_type": "code",
      "metadata": {
        "id": "wbggQ3Idww5i",
        "colab_type": "code",
        "colab": {}
      },
      "source": [
        "def extractcodepostalfromkey(key):\n",
        "  codepostal=key[:5]\n",
        "  return codepostal.strip()\n"
      ],
      "execution_count": null,
      "outputs": []
    },
    {
      "cell_type": "code",
      "metadata": {
        "id": "A_D1nhpKzH2N",
        "colab_type": "code",
        "colab": {}
      },
      "source": [
        "df_results=df_results.reset_index()"
      ],
      "execution_count": null,
      "outputs": []
    },
    {
      "cell_type": "code",
      "metadata": {
        "id": "iRvv-pOX1_O2",
        "colab_type": "code",
        "colab": {}
      },
      "source": [
        "row_iterator = df_results.iterrows()\n",
        "\n",
        "for i in row_iterator:\n",
        "  codepostal = extractcodepostalfromkey(i[1][0])\n",
        "  print(codepostal)\n",
        "  newlistcodeinsee=dropcodepostal(codepostal,i[1][1])\n",
        "  print(newlistcodeinsee)\n",
        "  df_results.loc[i[0], 'code_insee'] = newlistcodeinsee\n"
      ],
      "execution_count": null,
      "outputs": []
    },
    {
      "cell_type": "code",
      "metadata": {
        "id": "UhlmH3rmEwhk",
        "colab_type": "code",
        "colab": {}
      },
      "source": [
        "df_results"
      ],
      "execution_count": null,
      "outputs": []
    },
    {
      "cell_type": "markdown",
      "metadata": {
        "id": "a-x9acPyB6ed",
        "colab_type": "text"
      },
      "source": [
        " **most_code_insee()**, take the most code found"
      ]
    },
    {
      "cell_type": "code",
      "metadata": {
        "id": "fJRoOhsJxYQV",
        "colab_type": "code",
        "colab": {}
      },
      "source": [
        "from collections import Counter\n",
        "def most_code_insee(list_code):\n",
        "  if list_code != []:\n",
        "    return Counter(list_code).most_common(1)[0][0]\n",
        "  else:\n",
        "    return np.nan"
      ],
      "execution_count": null,
      "outputs": []
    },
    {
      "cell_type": "code",
      "metadata": {
        "id": "jTDjiCie7O10",
        "colab_type": "code",
        "colab": {}
      },
      "source": [
        "df_results['code_insee']=df_results['code_insee'].apply(most_code_insee)\n"
      ],
      "execution_count": null,
      "outputs": []
    },
    {
      "cell_type": "markdown",
      "metadata": {
        "id": "0Wjyh2MauGrW",
        "colab_type": "text"
      },
      "source": [
        "Export into Google drive with a CSV file\n"
      ]
    },
    {
      "cell_type": "code",
      "metadata": {
        "id": "hYUBfGwWbHdg",
        "colab_type": "code",
        "colab": {}
      },
      "source": [
        "df_results.to_csv('webscraping_results3.csv',header=True)"
      ],
      "execution_count": null,
      "outputs": []
    },
    {
      "cell_type": "code",
      "metadata": {
        "id": "-oq_9Oo3vyRX",
        "colab_type": "code",
        "colab": {
          "base_uri": "https://localhost:8080/",
          "height": 34
        },
        "outputId": "c6a691b6-6e1d-4a1b-b7a3-fa28cbd18999"
      },
      "source": [
        "drive.mount('/gdrive')"
      ],
      "execution_count": null,
      "outputs": [
        {
          "output_type": "stream",
          "text": [
            "Drive already mounted at /gdrive; to attempt to forcibly remount, call drive.mount(\"/gdrive\", force_remount=True).\n"
          ],
          "name": "stdout"
        }
      ]
    },
    {
      "cell_type": "code",
      "metadata": {
        "id": "SDFnIIkLuFfc",
        "colab_type": "code",
        "colab": {}
      },
      "source": [
        "!cp webscraping_results.csv \"/gdrive/My Drive/\""
      ],
      "execution_count": null,
      "outputs": []
    }
  ]
}